{
 "cells": [
  {
   "cell_type": "markdown",
   "id": "a7487b41-c3d5-4bc1-8ca9-749c2fa3c564",
   "metadata": {},
   "source": [
    "# Since I use the data from Kaggle to conduct my project; here I use Web crawler to collect job data from Indeed."
   ]
  },
  {
   "cell_type": "code",
   "execution_count": 15,
   "id": "128f4f68-364d-4761-b98b-3dd006d37762",
   "metadata": {},
   "outputs": [],
   "source": [
    "#!pip3.10 install selenium\n",
    "from urllib.request import Request, urlopen\n",
    "from selenium import webdriver\n",
    "from bs4 import BeautifulSoup\n",
    "from datetime import datetime, timedelta\n",
    "from selenium.webdriver.common.keys import Keys\n",
    "import time\n",
    "import random\n",
    "import os\n",
    "import json\n",
    "import csv\n",
    "from selenium.webdriver.support.ui import WebDriverWait\n",
    "from selenium.webdriver.support import expected_conditions as EC\n",
    "from selenium.webdriver.common.by import By\n"
   ]
  },
  {
   "cell_type": "code",
   "execution_count": 2,
   "id": "10b8b55e-4354-4eeb-8f9f-e55af082e7d1",
   "metadata": {},
   "outputs": [],
   "source": [
    "# Set the path to the GeckoDriver executable\n",
    "geckodriver_path = \"/home/daquan/Desktop/Week13 Defining Keystone Project/geckodriver\"\n",
    "\n",
    "# Create a Firefox WebDriver with options\n",
    "options = webdriver.FirefoxOptions()\n",
    "options.binary_location = \"/usr/bin/firefox\"  # Add the correct path to your Firefox binary if needed\n",
    "\n",
    "# Set the path to the GeckoDriver executable using the executable path option\n",
    "options.add_argument(f\"webdriver.gecko.driver:{geckodriver_path}\")\n",
    "\n",
    "# Create the Firefox WebDriver\n",
    "driver = webdriver.Firefox(options=options)\n",
    "\n",
    "# Visit the Indeed website\n",
    "url = \"https://www.indeed.com/\"\n",
    "driver.get(url)"
   ]
  },
  {
   "cell_type": "code",
   "execution_count": 7,
   "id": "23709894-223f-46ec-88d0-e8372d0ec77c",
   "metadata": {},
   "outputs": [],
   "source": [
    "search_bar = driver.find_element(\"name\", \"q\")\n",
    "search_bar.clear()\n",
    "search_bar.send_keys(\"data scientist\")\n",
    "search_bar.send_keys(Keys.RETURN)"
   ]
  },
  {
   "cell_type": "code",
   "execution_count": 16,
   "id": "5b1a7a7d-a94c-4e9d-b29d-edb645bf4805",
   "metadata": {},
   "outputs": [
    {
     "name": "stdout",
     "output_type": "stream",
     "text": [
      "Job Title: Applied Economist / Data Scientist\n",
      "Job URL: https://cz.indeed.com/rc/clk?jk=5ba8af4f277351b7&bb=xN2LkRFAWtBJ1ngRarLG-4K3_8J5As9kbbGJiYioqfQ_ASe4K75BSsRJYnI6Ful5J0c8mMplKi4YVHl0wK8XFcnzsVE80JVA8__Lph5h0B8%3D&xkcb=SoDJ67M3HxlwMxQHF50LbzkdCdPP&fccid=6230b08239299f5c&vjs=3\n",
      "\n",
      "Job Title: Data Scientist\n",
      "Job URL: https://cz.indeed.com/rc/clk?jk=ccd1cbfd1759a751&bb=xN2LkRFAWtBJ1ngRarLG-5Ch9yl5tnyd5iRg8wLMbx-oe2xPoDSEgyW5Lks1gYmvi_NtJIAqp0LkvqNKN2Of36bR43fqARzFX8Wgc6zDVDw%3D&xkcb=SoB967M3HxlwMxQHF50KbzkdCdPP&fccid=fc7e67df2531e091&vjs=3\n",
      "\n",
      "Job Title: Junior Data Scientist\n",
      "Job URL: https://cz.indeed.com/rc/clk?jk=f888af1d56f3d45d&bb=xN2LkRFAWtBJ1ngRarLG-1MzhtV148sfH6RpqTfrCz-KiCwZOVLHr36Ps-k2y0_3RycGVcjk949rxEX2h4Gw2mYbeqfGMofQCkCREvyrpms%3D&xkcb=SoDg67M3HxlwMxQHF50JbzkdCdPP&fccid=1544766d4c2915b0&vjs=3\n",
      "\n",
      "Job Title: Clinical Data Curator (Scientist/Scientist II)\n",
      "Job URL: https://cz.indeed.com/rc/clk?jk=614507cc4c477c12&bb=xN2LkRFAWtBJ1ngRarLG-5l8yKI37zfInYxKyMeUD6Vo-fN8_HJ_eHjHIqJa7tZhuPZfUBcBqDTMnevHlDllJXywRUHoKyvH8Rto__ORomE%3D&xkcb=SoBU67M3HxlwMxQHF50IbzkdCdPP&fccid=ba4235147030d693&vjs=3\n",
      "\n",
      "Job Title: Data Scientist\n",
      "Job URL: https://cz.indeed.com/rc/clk?jk=9bc4ca0860ada077&bb=xN2LkRFAWtBJ1ngRarLG-y6Gw5HW8WuT8_dAIjbqD7dzjMhQ1Id52t1baFYD-nK7kXk_GYXm-pOYkltdm50xSuQujlld8zTcE12WDGiZhvA%3D&xkcb=SoDa67M3HxlwMxQHF50PbzkdCdPP&fccid=28eefc5b86560831&vjs=3\n",
      "\n",
      "Job Title: CE Data Scientist\n",
      "Job URL: https://cz.indeed.com/rc/clk?jk=c8da75e6454dd31e&bb=xN2LkRFAWtBJ1ngRarLG-x3Ie7BhzPkCYhJ280X3YKMKyDVVfmYaolbQ7z4Emww_9nJOs-xZlm9WytxdAjuIlRL2UBevdCdjHmPrWZVltlg%3D&xkcb=SoBu67M3HxlwMxQHF50ObzkdCdPP&fccid=003656df63cede32&vjs=3\n",
      "\n",
      "Job Title: Data Scientist\n",
      "Job URL: https://cz.indeed.com/rc/clk?jk=272a10b4be88d318&bb=xN2LkRFAWtBJ1ngRarLG-w_79v-8lGLLx9Dsq-0lU3K6bizUacuKPFilwwaWlYU6zHrTPQzMm064d-6j22sA7_eSjJFrPI0sHHGKQfxwt-s%3D&xkcb=SoDz67M3HxlwMxQHF50NbzkdCdPP&fccid=ae18cbaabadd9810&vjs=3\n",
      "\n",
      "Job Title: Data Scientist, II\n",
      "Job URL: https://cz.indeed.com/rc/clk?jk=7dd41d68b5affc7f&bb=xN2LkRFAWtBJ1ngRarLG-_Kea-d5PuV7UqU5pfCypycj3XI-oKuNjf99-isf_5hY1Vtf8oVawDU8EE61c2IblrUPtYLel163nHvO6ZUrfp8%3D&xkcb=SoBH67M3HxlwMxQHF50MbzkdCdPP&fccid=cc39af3a7bb5a4d8&vjs=3\n",
      "\n",
      "Job Title: Data Scientist\n",
      "Job URL: https://cz.indeed.com/rc/clk?jk=4dca4e6943b673e5&bb=xN2LkRFAWtBJ1ngRarLG-8PfwWHMgrpM9Rkrb7V3VR6OjAXl0qekvlvwLCUuVg3fII9ZIUdLyL6jsNnLwTINt-BdOKBWqzkUtVBSwij72B4%3D&xkcb=SoCu67M3HxlwMxQHF50DbzkdCdPP&fccid=b7500e7e780f55c4&vjs=3\n",
      "\n",
      "Job Title: Applied Economist / Data Scientist\n",
      "Job URL: https://cz.indeed.com/rc/clk?jk=193ecd68337f6085&bb=xN2LkRFAWtBJ1ngRarLG-8GkKXgoVx1ew-9rdUZ746Y6tJav2am5F5ANTgltO6BU6RcgrqBrpyRfGcXcjrEi3xT2kAOWxZxs1L5M4lyWx1Q%3D&xkcb=SoAa67M3HxlwMxQHF50CbzkdCdPP&fccid=c95c64f0628a0a11&vjs=3\n",
      "\n",
      "Job Title: Data Scientist\n",
      "Job URL: https://cz.indeed.com/rc/clk?jk=840324ef9bea4166&bb=xN2LkRFAWtBJ1ngRarLG-znVtWPjdHUbZcAcflyC6VS9yd3mrAtCWQhkXIk6RbXmVd9XXkQyb32Fhw4wTxnR2TFx5K8dfY1kVUe_CxB2HNs%3D&xkcb=SoCH67M3HxlwMxQHF50BbzkdCdPP&fccid=b81d6a875acf5b30&vjs=3\n",
      "\n",
      "Job Title: DATA SCIENCE #12533819\n",
      "Job URL: https://cz.indeed.com/pagead/clk?mo=r&ad=-6NYlbfkN0Dp1PM2bDCBdT731CsdlJ-2-4gFygcVF0fpjITp0McEEutoFHNZedxXF8qIYRvi_37JkgR6G2c7NRZg9rknWULllg2PO8nCd-y8r2JPqogIkr-kTUtNp_x79LKR-Qi42kYBOoMiaerYepWzB_YKz6hl3sWfF2V1jZZ1OVPIUW8_pcCcpgetZwrJp4CsRdsdya8T_4BgiXewTcAfGEiFNzSkFEj0oRd2BmZCvH9llem8fA3Ar4VnUuaTDmoZ3H5-CkekIBg9VsXPW1ck4CIT9qUq9naxHKBiFbhBE5DYXAkdQB2eA3g-hwVD40abkkLDwoO-pQx9G3Ra8MhjPGHGpvadtozWaMDZKl_WWQhS_2Eyw1_j0C9ZJ3DcUN64mOn13lJ5p1suE961VF_DGepOo54Ys1Pr0uVTAAX7b_3_6gfFyF4tJJzDvEfdxahhdme0crwDiS0ywskYh8Q4rNHJWe45QN9xQaRBd058FE0zMetiGmxI7YAvTcJpurGotPh7ZbwWUTnROL_y2Pwl3fTVQDhKerD5_e55vWVkgbeNB-lb3PokSpzs4HqOs6M5sD5XAKNoqwYag7N-PmlqW7Sw91F-lHU3KTHHnr49RQB1O1-mDp56VyRv-y7cEWdWT4iaEN1TTqRvotAzUM0mHeGXIXQbvqD9NAd6JNG5uzu2yYAYp71HlFqBXiN1C3Vkj-1owryWEc1aJwqxE1V-qJHx2kai--cboZ6bYlvvY8UBuXJtM1_fnE5gTvSF0g2E9PPBRbOvvIejn_pAewsA2lCbjIA7vXRKX8XjwGmPlZORmxHqoFAJ8wV8SXwEYZbN6MaS_Yg9pHUJCKYzILKAM-anL7ng&xkcb=SoDH6_M3HxlwMxQHF50AbzkdCdPP&p=11&fvj=0&vjs=3\n",
      "\n",
      "Job Title: Scientist / Scientist II (Clinical data curator)\n",
      "Job URL: https://cz.indeed.com/rc/clk?jk=02093d7b7cac24de&bb=xN2LkRFAWtBJ1ngRarLG--UHoCADCzHlcoDiaRZrZlc4PoN_O3Q_hi6IUPuezN-wtstdt3ZTRPpzaQhDO665PSb4E-_8boQJ69mngSOaCsY%3D&xkcb=SoC967M3HxlwMxQHF50HbzkdCdPP&fccid=e1344e7431da2760&vjs=3\n",
      "\n",
      "Job Title: Data Scientist in Automotive (f/m/d)\n",
      "Job URL: https://cz.indeed.com/rc/clk?jk=750fcc434955d839&bb=xN2LkRFAWtBJ1ngRarLG-yT89OsL01kbB1IZfwq_Gn6MAEbZP12c_vspmYaKwV8v9eswr1yjX3yCnrOwFE45Nfk9y8djkeQ3mldTw-u8qHs%3D&xkcb=SoAJ67M3HxlwMxQHF50GbzkdCdPP&fccid=e77b1d280faae603&vjs=3\n",
      "\n",
      "Job Title: Data Scientist and Process Mining Architect\n",
      "Job URL: https://cz.indeed.com/rc/clk?jk=e681aae8c784b9d4&bb=xN2LkRFAWtBJ1ngRarLG-yT89OsL01kbtE8J2uAAV9L50gAHtYmspaBgVDSYzkuNMUKRGUzzZHypc1AeJV0wOA10yZwsFxPOgfOsxONyuwI%3D&xkcb=SoCU67M3HxlwMxQHF50FbzkdCdPP&fccid=cbe3b647ed644e03&vjs=3\n",
      "\n"
     ]
    }
   ],
   "source": [
    "# Wait for the search results to load\n",
    "wait = WebDriverWait(driver, 10)\n",
    "wait.until(EC.presence_of_element_located((By.CSS_SELECTOR, \"a.jcs-JobTitle\")))\n",
    "\n",
    "# Get all job link elements\n",
    "job_links = driver.find_elements(By.CSS_SELECTOR, \"a.jcs-JobTitle\")\n",
    "\n",
    "# Print each job link\n",
    "for job_link in job_links:\n",
    "    job_title = job_link.text\n",
    "    job_url = job_link.get_attribute('href')\n",
    "    print(f\"Job Title: {job_title}\\nJob URL: {job_url}\\n\")\n",
    "\n",
    "# Close the browser window\n",
    "# driver.quit()"
   ]
  },
  {
   "cell_type": "code",
   "execution_count": 17,
   "id": "f84bb0e5-8ece-42cb-a9a0-2fd1571d3fe9",
   "metadata": {},
   "outputs": [
    {
     "name": "stdout",
     "output_type": "stream",
     "text": [
      "Job data has been saved to job_data.csv\n"
     ]
    }
   ],
   "source": [
    "# Create a list to store job data\n",
    "job_data = []\n",
    "\n",
    "# Collect job data\n",
    "for job_link in job_links:\n",
    "    job_title = job_link.text\n",
    "    job_url = job_link.get_attribute('href')\n",
    "    job_data.append({\"Job Title\": job_title, \"Job URL\": job_url})\n",
    "\n",
    "# Close the browser window\n",
    "# driver.quit()\n",
    "\n",
    "# Save job data to a CSV file\n",
    "csv_filename = \"job_data.csv\"\n",
    "csv_columns = [\"Job Title\", \"Job URL\"]\n",
    "\n",
    "with open(csv_filename, 'w', newline='', encoding='utf-8') as csv_file:\n",
    "    writer = csv.DictWriter(csv_file, fieldnames=csv_columns)\n",
    "    writer.writeheader()\n",
    "    for data in job_data:\n",
    "        writer.writerow(data)\n",
    "\n",
    "print(f\"Job data has been saved to {csv_filename}\")"
   ]
  },
  {
   "cell_type": "code",
   "execution_count": null,
   "id": "183324ef-6d89-411c-bd72-23fc031ea63b",
   "metadata": {},
   "outputs": [],
   "source": []
  },
  {
   "cell_type": "code",
   "execution_count": null,
   "id": "51bba9cc-e697-4346-83ff-e5daf2287f71",
   "metadata": {},
   "outputs": [],
   "source": []
  },
  {
   "cell_type": "code",
   "execution_count": null,
   "id": "01531c7f-f30e-43e4-b05e-b7cd9961757d",
   "metadata": {},
   "outputs": [],
   "source": []
  },
  {
   "cell_type": "code",
   "execution_count": null,
   "id": "ed1088cd-02d0-4331-8e35-5dc1c678215c",
   "metadata": {},
   "outputs": [],
   "source": []
  },
  {
   "cell_type": "code",
   "execution_count": null,
   "id": "ccf4265c-7852-4a1e-940d-c0a7f886199c",
   "metadata": {},
   "outputs": [],
   "source": []
  }
 ],
 "metadata": {
  "kernelspec": {
   "display_name": "Python 3 (ipykernel)",
   "language": "python",
   "name": "python3"
  },
  "language_info": {
   "codemirror_mode": {
    "name": "ipython",
    "version": 3
   },
   "file_extension": ".py",
   "mimetype": "text/x-python",
   "name": "python",
   "nbconvert_exporter": "python",
   "pygments_lexer": "ipython3",
   "version": "3.10.6"
  }
 },
 "nbformat": 4,
 "nbformat_minor": 5
}
